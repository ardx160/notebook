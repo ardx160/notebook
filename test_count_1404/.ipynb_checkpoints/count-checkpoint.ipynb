{
 "cells": [
  {
   "cell_type": "markdown",
   "id": "mediterranean-vienna",
   "metadata": {},
   "source": [
    "01. SETUP\n",
    "    - get dataset and tfrecord from roboflow\n",
    "    - clone tensorflow model lib\n",
    "    - get pretrained model"
   ]
  },
  {
   "cell_type": "code",
   "execution_count": 7,
   "id": "russian-session",
   "metadata": {},
   "outputs": [],
   "source": [
    "DATASET_DIR = 'C:\\\\Users\\\\ardo\\\\Documents\\\\personal\\\\dev\\\\notebook\\\\test_count_1404\\\\datasets'\n",
    "import os\n",
    "\n",
    "if not os.path.exists(DATASET_DIR):\n",
    "    os.makedirs(DATASET_DIR)"
   ]
  },
  {
   "cell_type": "code",
   "execution_count": 8,
   "id": "engaged-cursor",
   "metadata": {},
   "outputs": [],
   "source": [
    "from urllib.request import urlopen\n",
    "from io import BytesIO\n",
    "from zipfile import ZipFile\n",
    "\n",
    "\n",
    "def download_and_unzip(url, extract_to='.'):\n",
    "    http_response = urlopen(url)\n",
    "    zipfile = ZipFile(BytesIO(http_response.read()))\n",
    "    zipfile.extractall(path=extract_to)\n",
    "    \n",
    "download_and_unzip('https://app.roboflow.com/ds/9kWH42JFYv?key=g4wuao6Y47', DATASET_DIR)"
   ]
  },
  {
   "cell_type": "code",
   "execution_count": 3,
   "id": "normal-emerald",
   "metadata": {},
   "outputs": [
    {
     "name": "stderr",
     "output_type": "stream",
     "text": [
      "Cloning into 'models'...\n",
      "Updating files:  96% (2307/2395)\n",
      "Updating files:  97% (2324/2395)\n",
      "Updating files:  98% (2348/2395)\n",
      "Updating files:  99% (2372/2395)\n",
      "Updating files: 100% (2395/2395)\n",
      "Updating files: 100% (2395/2395), done.\n"
     ]
    }
   ],
   "source": [
    "import pathlib\n",
    "\n",
    "# Clone the tensorflow models repository if it doesn't already exist\n",
    "if \"models\" in pathlib.Path.cwd().parts:\n",
    "  while \"models\" in pathlib.Path.cwd().parts:\n",
    "    os.chdir('..')\n",
    "elif not pathlib.Path('models').exists():\n",
    "  !git clone --depth 1 https://github.com/tensorflow/models"
   ]
  },
  {
   "cell_type": "code",
   "execution_count": 15,
   "id": "external-minimum",
   "metadata": {},
   "outputs": [
    {
     "name": "stdout",
     "output_type": "stream",
     "text": [
      "extracting..\n",
      "remove raw file..\n",
      "done\n"
     ]
    }
   ],
   "source": [
    "import tarfile\n",
    "import urllib.request\n",
    "\n",
    "pretrained_url = 'http://download.tensorflow.org/models/object_detection/tf2/20200711/ssd_resnet50_v1_fpn_640x640_coco17_tpu-8.tar.gz'\n",
    "pretrained_fn = 'ssd_resnet50_v1_fpn_640x640_coco17_tpu-8.tar.gz'\n",
    "\n",
    "if not os.path.exists(pretrained_fn):\n",
    "    print('downloading..')\n",
    "    urllib.request.urlretrieve(pretrained_url, pretrained_fn)\n",
    "\n",
    "print('extracting..')\n",
    "if pretrained_fn.endswith(\"tar.gz\"):\n",
    "    tar = tarfile.open(pretrained_fn, \"r:gz\")\n",
    "    tar.extractall()\n",
    "    tar.close()\n",
    "\n",
    "print('remove raw file..')\n",
    "os.remove(pretrained_fn)\n",
    "\n",
    "print('done')"
   ]
  },
  {
   "cell_type": "code",
   "execution_count": null,
   "id": "understood-information",
   "metadata": {},
   "outputs": [],
   "source": []
  }
 ],
 "metadata": {
  "kernelspec": {
   "display_name": "Python 3",
   "language": "python",
   "name": "python3"
  },
  "language_info": {
   "codemirror_mode": {
    "name": "ipython",
    "version": 3
   },
   "file_extension": ".py",
   "mimetype": "text/x-python",
   "name": "python",
   "nbconvert_exporter": "python",
   "pygments_lexer": "ipython3",
   "version": "3.8.8"
  }
 },
 "nbformat": 4,
 "nbformat_minor": 5
}
